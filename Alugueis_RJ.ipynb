{
 "cells": [
  {
   "cell_type": "markdown",
   "id": "da556160-2463-4b19-b9d4-bf4c05aeefba",
   "metadata": {},
   "source": [
    "# Projeto: Análise dos Aluguéis do Rio de Janeiro com Python\n",
    "Usando Python para analisar os dados de um dataset fictício dos alugueis do Rio de Janeiro"
   ]
  },
  {
   "cell_type": "markdown",
   "id": "d277c7c4-c4a0-4f15-a63a-2037ca4795b6",
   "metadata": {},
   "source": [
    "## Objetivos: \n",
    "Este dataset faz parte do treinamento de Pandas da Alura e o objetivo desse projeto é expandir o conhecimento adquirido no treinamento para além das funções básicas, utilizando outros recursos e outras formas de explorar esse dataset e promover uma análise sobre os dados."
   ]
  },
  {
   "cell_type": "markdown",
   "id": "acb13b78-68ce-4786-ae25-f9342f076c07",
   "metadata": {},
   "source": [
    "## Extraindo e Explorando o dataset"
   ]
  },
  {
   "cell_type": "code",
   "execution_count": 1,
   "id": "628e89e3-3dc1-4ac3-967a-123b1c04c1c0",
   "metadata": {},
   "outputs": [
    {
     "name": "stdout",
     "output_type": "stream",
     "text": [
      "Versão:  ['Python 3.8.8']\n"
     ]
    }
   ],
   "source": [
    "# Registrando a versão do Python\n",
    "versao =!python -V\n",
    "print('Versão: ', versao)"
   ]
  },
  {
   "cell_type": "code",
   "execution_count": 2,
   "id": "e676c730-243a-4309-8ec8-86f2545256cf",
   "metadata": {},
   "outputs": [],
   "source": [
    "# Importando bibliotecas\n",
    "import pandas as pd\n",
    "# inline mostrara um gráfico estática na tela\n",
    "%matplotlib inline\n",
    "import matplotlib.pyplot as plt\n",
    "plt.rc('figure', figsize = (10,8))\n",
    "import seaborn as sns\n",
    "sns.set_theme(style=\"ticks\", palette=\"rocket\")#registrando tema\n"
   ]
  },
  {
   "cell_type": "code",
   "execution_count": 3,
   "id": "a77de5a8-5ddc-4660-9a18-0d26b1ad3abd",
   "metadata": {},
   "outputs": [],
   "source": [
    "# Importando dataset\n",
    "df = pd.read_csv('dataset/aluguel.csv', sep=';')"
   ]
  },
  {
   "cell_type": "markdown",
   "id": "68bf12e9-d679-49ad-9e16-791627e1df25",
   "metadata": {},
   "source": [
    "#### Dicionário das variáveis\n",
    "\n",
    "###### <b>Tipo :</b>Tipo do imóvel\n",
    "###### <b>Bairro: </b>Bairro onde está localizado\n",
    "###### <b>Quartos: </b>Quantidade de quartos do imóvel\n",
    "###### <b>Vagas: </b>Quantidade de vagas do imóvel\n",
    "###### <b>Suítes: </b>Quantidade de suítes do ímovel<\n",
    "###### <b>Área: </b>Área do imóvel\n",
    "###### <b>Valor: </b>Valor do Aluguel do imóvel\n",
    "###### <b>Condomínio: </b>Valor do condomínio dos imóveis que possuem\n",
    "###### <b>IPTU: </b>Valor do IPTU do imóvel\n",
    "###### <b>Valor por m²: </b>Valor do m² do imóvel. Variável será criada \n",
    "\n"
   ]
  },
  {
   "cell_type": "code",
   "execution_count": 4,
   "id": "3dcb6a0d-9daf-47bc-8975-033aba14f02c",
   "metadata": {},
   "outputs": [
    {
     "data": {
      "text/html": [
       "<div>\n",
       "<style scoped>\n",
       "    .dataframe tbody tr th:only-of-type {\n",
       "        vertical-align: middle;\n",
       "    }\n",
       "\n",
       "    .dataframe tbody tr th {\n",
       "        vertical-align: top;\n",
       "    }\n",
       "\n",
       "    .dataframe thead th {\n",
       "        text-align: right;\n",
       "    }\n",
       "</style>\n",
       "<table border=\"1\" class=\"dataframe\">\n",
       "  <thead>\n",
       "    <tr style=\"text-align: right;\">\n",
       "      <th></th>\n",
       "      <th>Tipo</th>\n",
       "      <th>Bairro</th>\n",
       "      <th>Quartos</th>\n",
       "      <th>Vagas</th>\n",
       "      <th>Suites</th>\n",
       "      <th>Area</th>\n",
       "      <th>Valor</th>\n",
       "      <th>Condominio</th>\n",
       "      <th>IPTU</th>\n",
       "    </tr>\n",
       "  </thead>\n",
       "  <tbody>\n",
       "    <tr>\n",
       "      <th>0</th>\n",
       "      <td>Quitinete</td>\n",
       "      <td>Copacabana</td>\n",
       "      <td>1</td>\n",
       "      <td>0</td>\n",
       "      <td>0</td>\n",
       "      <td>40</td>\n",
       "      <td>1700.0</td>\n",
       "      <td>500.0</td>\n",
       "      <td>60.0</td>\n",
       "    </tr>\n",
       "    <tr>\n",
       "      <th>1</th>\n",
       "      <td>Casa</td>\n",
       "      <td>Jardim Botânico</td>\n",
       "      <td>2</td>\n",
       "      <td>0</td>\n",
       "      <td>1</td>\n",
       "      <td>100</td>\n",
       "      <td>7000.0</td>\n",
       "      <td>NaN</td>\n",
       "      <td>NaN</td>\n",
       "    </tr>\n",
       "    <tr>\n",
       "      <th>2</th>\n",
       "      <td>Conjunto Comercial/Sala</td>\n",
       "      <td>Barra da Tijuca</td>\n",
       "      <td>0</td>\n",
       "      <td>4</td>\n",
       "      <td>0</td>\n",
       "      <td>150</td>\n",
       "      <td>5200.0</td>\n",
       "      <td>4020.0</td>\n",
       "      <td>1111.0</td>\n",
       "    </tr>\n",
       "    <tr>\n",
       "      <th>3</th>\n",
       "      <td>Apartamento</td>\n",
       "      <td>Centro</td>\n",
       "      <td>1</td>\n",
       "      <td>0</td>\n",
       "      <td>0</td>\n",
       "      <td>15</td>\n",
       "      <td>800.0</td>\n",
       "      <td>390.0</td>\n",
       "      <td>20.0</td>\n",
       "    </tr>\n",
       "    <tr>\n",
       "      <th>4</th>\n",
       "      <td>Apartamento</td>\n",
       "      <td>Higienópolis</td>\n",
       "      <td>1</td>\n",
       "      <td>0</td>\n",
       "      <td>0</td>\n",
       "      <td>48</td>\n",
       "      <td>800.0</td>\n",
       "      <td>230.0</td>\n",
       "      <td>NaN</td>\n",
       "    </tr>\n",
       "  </tbody>\n",
       "</table>\n",
       "</div>"
      ],
      "text/plain": [
       "                      Tipo           Bairro  Quartos  Vagas  Suites  Area  \\\n",
       "0                Quitinete       Copacabana        1      0       0    40   \n",
       "1                     Casa  Jardim Botânico        2      0       1   100   \n",
       "2  Conjunto Comercial/Sala  Barra da Tijuca        0      4       0   150   \n",
       "3              Apartamento           Centro        1      0       0    15   \n",
       "4              Apartamento     Higienópolis        1      0       0    48   \n",
       "\n",
       "    Valor  Condominio    IPTU  \n",
       "0  1700.0       500.0    60.0  \n",
       "1  7000.0         NaN     NaN  \n",
       "2  5200.0      4020.0  1111.0  \n",
       "3   800.0       390.0    20.0  \n",
       "4   800.0       230.0     NaN  "
      ]
     },
     "execution_count": 4,
     "metadata": {},
     "output_type": "execute_result"
    }
   ],
   "source": [
    "# Visualizando os 5 primeiros registros do dataset\n",
    "df.head(5)"
   ]
  },
  {
   "cell_type": "code",
   "execution_count": 5,
   "id": "907e7fee-174d-4500-b668-0660357b1188",
   "metadata": {},
   "outputs": [
    {
     "data": {
      "text/plain": [
       "(32960, 9)"
      ]
     },
     "execution_count": 5,
     "metadata": {},
     "output_type": "execute_result"
    }
   ],
   "source": [
    "# Número de linhas e colunas inciais\n",
    "df.shape"
   ]
  },
  {
   "cell_type": "markdown",
   "id": "a3d81d0f-930f-4edf-b4bf-e4566f68a817",
   "metadata": {},
   "source": [
    "## Limpeza e Transformação"
   ]
  },
  {
   "cell_type": "code",
   "execution_count": 6,
   "id": "20e23c13-aa3b-4ed5-b3c5-b9f27a13bd85",
   "metadata": {},
   "outputs": [
    {
     "data": {
      "text/html": [
       "<div>\n",
       "<style scoped>\n",
       "    .dataframe tbody tr th:only-of-type {\n",
       "        vertical-align: middle;\n",
       "    }\n",
       "\n",
       "    .dataframe tbody tr th {\n",
       "        vertical-align: top;\n",
       "    }\n",
       "\n",
       "    .dataframe thead th {\n",
       "        text-align: right;\n",
       "    }\n",
       "</style>\n",
       "<table border=\"1\" class=\"dataframe\">\n",
       "  <thead>\n",
       "    <tr style=\"text-align: right;\">\n",
       "      <th>ID</th>\n",
       "      <th>Tipo</th>\n",
       "      <th>Bairro</th>\n",
       "      <th>Quartos</th>\n",
       "      <th>Vagas</th>\n",
       "      <th>Suites</th>\n",
       "      <th>Area</th>\n",
       "      <th>Valor</th>\n",
       "      <th>Condominio</th>\n",
       "      <th>IPTU</th>\n",
       "    </tr>\n",
       "  </thead>\n",
       "  <tbody>\n",
       "    <tr>\n",
       "      <th>0</th>\n",
       "      <td>Quitinete</td>\n",
       "      <td>Copacabana</td>\n",
       "      <td>1</td>\n",
       "      <td>0</td>\n",
       "      <td>0</td>\n",
       "      <td>40</td>\n",
       "      <td>1700.0</td>\n",
       "      <td>500.0</td>\n",
       "      <td>60.0</td>\n",
       "    </tr>\n",
       "    <tr>\n",
       "      <th>1</th>\n",
       "      <td>Casa</td>\n",
       "      <td>Jardim Botânico</td>\n",
       "      <td>2</td>\n",
       "      <td>0</td>\n",
       "      <td>1</td>\n",
       "      <td>100</td>\n",
       "      <td>7000.0</td>\n",
       "      <td>NaN</td>\n",
       "      <td>NaN</td>\n",
       "    </tr>\n",
       "    <tr>\n",
       "      <th>2</th>\n",
       "      <td>Conjunto Comercial/Sala</td>\n",
       "      <td>Barra da Tijuca</td>\n",
       "      <td>0</td>\n",
       "      <td>4</td>\n",
       "      <td>0</td>\n",
       "      <td>150</td>\n",
       "      <td>5200.0</td>\n",
       "      <td>4020.0</td>\n",
       "      <td>1111.0</td>\n",
       "    </tr>\n",
       "    <tr>\n",
       "      <th>3</th>\n",
       "      <td>Apartamento</td>\n",
       "      <td>Centro</td>\n",
       "      <td>1</td>\n",
       "      <td>0</td>\n",
       "      <td>0</td>\n",
       "      <td>15</td>\n",
       "      <td>800.0</td>\n",
       "      <td>390.0</td>\n",
       "      <td>20.0</td>\n",
       "    </tr>\n",
       "    <tr>\n",
       "      <th>4</th>\n",
       "      <td>Apartamento</td>\n",
       "      <td>Higienópolis</td>\n",
       "      <td>1</td>\n",
       "      <td>0</td>\n",
       "      <td>0</td>\n",
       "      <td>48</td>\n",
       "      <td>800.0</td>\n",
       "      <td>230.0</td>\n",
       "      <td>NaN</td>\n",
       "    </tr>\n",
       "  </tbody>\n",
       "</table>\n",
       "</div>"
      ],
      "text/plain": [
       "ID                     Tipo           Bairro  Quartos  Vagas  Suites  Area  \\\n",
       "0                 Quitinete       Copacabana        1      0       0    40   \n",
       "1                      Casa  Jardim Botânico        2      0       1   100   \n",
       "2   Conjunto Comercial/Sala  Barra da Tijuca        0      4       0   150   \n",
       "3               Apartamento           Centro        1      0       0    15   \n",
       "4               Apartamento     Higienópolis        1      0       0    48   \n",
       "\n",
       "ID   Valor  Condominio    IPTU  \n",
       "0   1700.0       500.0    60.0  \n",
       "1   7000.0         NaN     NaN  \n",
       "2   5200.0      4020.0  1111.0  \n",
       "3    800.0       390.0    20.0  \n",
       "4    800.0       230.0     NaN  "
      ]
     },
     "execution_count": 6,
     "metadata": {},
     "output_type": "execute_result"
    }
   ],
   "source": [
    "# Inserindo um nome para a coluna \n",
    "df.columns.name='ID'\n",
    "df.head(5)"
   ]
  },
  {
   "cell_type": "code",
   "execution_count": 7,
   "id": "2b21c3e7-df4c-489b-b13e-150c395c2023",
   "metadata": {},
   "outputs": [
    {
     "name": "stdout",
     "output_type": "stream",
     "text": [
      "<class 'pandas.core.frame.DataFrame'>\n",
      "RangeIndex: 32960 entries, 0 to 32959\n",
      "Data columns (total 9 columns):\n",
      " #   Column      Non-Null Count  Dtype  \n",
      "---  ------      --------------  -----  \n",
      " 0   Tipo        32960 non-null  object \n",
      " 1   Bairro      32960 non-null  object \n",
      " 2   Quartos     32960 non-null  int64  \n",
      " 3   Vagas       32960 non-null  int64  \n",
      " 4   Suites      32960 non-null  int64  \n",
      " 5   Area        32960 non-null  int64  \n",
      " 6   Valor       32943 non-null  float64\n",
      " 7   Condominio  28867 non-null  float64\n",
      " 8   IPTU        22723 non-null  float64\n",
      "dtypes: float64(3), int64(4), object(2)\n",
      "memory usage: 2.3+ MB\n"
     ]
    }
   ],
   "source": [
    "# Informações dos dados\n",
    "df.info()"
   ]
  },
  {
   "cell_type": "markdown",
   "id": "eb511734-3262-4120-8269-f66833ed0bc2",
   "metadata": {},
   "source": [
    "É possível verificar que as variáveis Valor, Condomínio e IPTU tem dados nulos"
   ]
  },
  {
   "cell_type": "code",
   "execution_count": 8,
   "id": "678fe35b-19f8-4e2d-88ad-8754d05833c0",
   "metadata": {},
   "outputs": [],
   "source": [
    "# Definindo uma função para visualizar o total de nulos e seu percentual\n",
    "def nulos(df):\n",
    "    total = df.isnull().sum() \n",
    "    percent = df.isnull().sum()/df.isnull().count()\n",
    "    missing_data = pd.concat([total, percent], axis=1, sort=False, keys=['total', 'percent'])\n",
    "    missing_data[missing_data['percent']!=0]\n",
    "    return missing_data"
   ]
  },
  {
   "cell_type": "code",
   "execution_count": 9,
   "id": "41f2c0da-9db8-421c-ba06-0e2fe0d2c72b",
   "metadata": {},
   "outputs": [
    {
     "data": {
      "text/html": [
       "<div>\n",
       "<style scoped>\n",
       "    .dataframe tbody tr th:only-of-type {\n",
       "        vertical-align: middle;\n",
       "    }\n",
       "\n",
       "    .dataframe tbody tr th {\n",
       "        vertical-align: top;\n",
       "    }\n",
       "\n",
       "    .dataframe thead th {\n",
       "        text-align: right;\n",
       "    }\n",
       "</style>\n",
       "<table border=\"1\" class=\"dataframe\">\n",
       "  <thead>\n",
       "    <tr style=\"text-align: right;\">\n",
       "      <th></th>\n",
       "      <th>total</th>\n",
       "      <th>percent</th>\n",
       "    </tr>\n",
       "    <tr>\n",
       "      <th>ID</th>\n",
       "      <th></th>\n",
       "      <th></th>\n",
       "    </tr>\n",
       "  </thead>\n",
       "  <tbody>\n",
       "    <tr>\n",
       "      <th>Tipo</th>\n",
       "      <td>0</td>\n",
       "      <td>0.000000</td>\n",
       "    </tr>\n",
       "    <tr>\n",
       "      <th>Bairro</th>\n",
       "      <td>0</td>\n",
       "      <td>0.000000</td>\n",
       "    </tr>\n",
       "    <tr>\n",
       "      <th>Quartos</th>\n",
       "      <td>0</td>\n",
       "      <td>0.000000</td>\n",
       "    </tr>\n",
       "    <tr>\n",
       "      <th>Vagas</th>\n",
       "      <td>0</td>\n",
       "      <td>0.000000</td>\n",
       "    </tr>\n",
       "    <tr>\n",
       "      <th>Suites</th>\n",
       "      <td>0</td>\n",
       "      <td>0.000000</td>\n",
       "    </tr>\n",
       "    <tr>\n",
       "      <th>Area</th>\n",
       "      <td>0</td>\n",
       "      <td>0.000000</td>\n",
       "    </tr>\n",
       "    <tr>\n",
       "      <th>Valor</th>\n",
       "      <td>17</td>\n",
       "      <td>0.000516</td>\n",
       "    </tr>\n",
       "    <tr>\n",
       "      <th>Condominio</th>\n",
       "      <td>4093</td>\n",
       "      <td>0.124181</td>\n",
       "    </tr>\n",
       "    <tr>\n",
       "      <th>IPTU</th>\n",
       "      <td>10237</td>\n",
       "      <td>0.310589</td>\n",
       "    </tr>\n",
       "  </tbody>\n",
       "</table>\n",
       "</div>"
      ],
      "text/plain": [
       "            total   percent\n",
       "ID                         \n",
       "Tipo            0  0.000000\n",
       "Bairro          0  0.000000\n",
       "Quartos         0  0.000000\n",
       "Vagas           0  0.000000\n",
       "Suites          0  0.000000\n",
       "Area            0  0.000000\n",
       "Valor          17  0.000516\n",
       "Condominio   4093  0.124181\n",
       "IPTU        10237  0.310589"
      ]
     },
     "execution_count": 9,
     "metadata": {},
     "output_type": "execute_result"
    }
   ],
   "source": [
    "nulos(df)"
   ]
  },
  {
   "cell_type": "markdown",
   "id": "deef118a-abff-4002-8415-70a9724c09f0",
   "metadata": {},
   "source": [
    "### Tratando a variável VALOR"
   ]
  },
  {
   "cell_type": "markdown",
   "id": "5ceb79ad-19d3-4e32-8fcb-b33cfe0f35d4",
   "metadata": {},
   "source": [
    "Para está variável será realizada a exclusão desses registros com dados nulos"
   ]
  },
  {
   "cell_type": "code",
   "execution_count": 10,
   "id": "d9da6851-bbc7-4b57-9282-ca8e238c5ee6",
   "metadata": {},
   "outputs": [
    {
     "data": {
      "text/plain": [
       "17"
      ]
     },
     "execution_count": 10,
     "metadata": {},
     "output_type": "execute_result"
    }
   ],
   "source": [
    "df[df['Valor'].isnull()].shape[0]"
   ]
  },
  {
   "cell_type": "code",
   "execution_count": 11,
   "id": "13fbfbbf-8da2-475f-951b-e3525ccdd515",
   "metadata": {},
   "outputs": [
    {
     "data": {
      "text/plain": [
       "17"
      ]
     },
     "execution_count": 11,
     "metadata": {},
     "output_type": "execute_result"
    }
   ],
   "source": [
    "# Removendo missing values\n",
    "A = df.shape[0]\n",
    "df.dropna(subset = ['Valor'], inplace = True)\n",
    "B = df.shape[0]\n",
    "A - B"
   ]
  },
  {
   "cell_type": "code",
   "execution_count": 12,
   "id": "35571ca0-9bb6-461a-9067-06c73af5a027",
   "metadata": {},
   "outputs": [
    {
     "data": {
      "text/plain": [
       "0"
      ]
     },
     "execution_count": 12,
     "metadata": {},
     "output_type": "execute_result"
    }
   ],
   "source": [
    "# Verificando se ainda há registro nulo para valor\n",
    "df[df['Valor'].isnull()].shape[0]"
   ]
  },
  {
   "cell_type": "markdown",
   "id": "96d1d828-9fda-4536-85d8-aef58b8dfa69",
   "metadata": {},
   "source": [
    "### Tratando a variável CONDOMÍNIO"
   ]
  },
  {
   "cell_type": "markdown",
   "id": "37bb51d1-8c3c-42b5-ad74-b8e57ce25dfc",
   "metadata": {},
   "source": [
    "Para está variável será assumido que todo apartamento tem que ter valor de condomínio, portanto, os registros sem valor serão descartados"
   ]
  },
  {
   "cell_type": "code",
   "execution_count": 13,
   "id": "2f04cd98-c8eb-4497-a2de-45c0504dfa60",
   "metadata": {},
   "outputs": [
    {
     "data": {
      "text/plain": [
       "4089"
      ]
     },
     "execution_count": 13,
     "metadata": {},
     "output_type": "execute_result"
    }
   ],
   "source": [
    "df[df['Condominio'].isnull()].shape[0]"
   ]
  },
  {
   "cell_type": "code",
   "execution_count": 14,
   "id": "3a5ae295-a603-4d32-b340-3b8e7a278343",
   "metadata": {},
   "outputs": [],
   "source": [
    "# Selecionando os registros dos apartamentos sem valor de condominio\n",
    "selecao1 = (df['Tipo'] == 'Apartamento') & (df['Condominio'].isnull())"
   ]
  },
  {
   "cell_type": "code",
   "execution_count": 15,
   "id": "27a6960d-0692-4991-a4aa-9a85513fd87e",
   "metadata": {},
   "outputs": [
    {
     "data": {
      "text/plain": [
       "745"
      ]
     },
     "execution_count": 15,
     "metadata": {},
     "output_type": "execute_result"
    }
   ],
   "source": [
    "# Removendo registros\n",
    "A = df.shape[0]\n",
    "df = df[~selecao1] # colocamos o '~' na frente da seleção para que ele inverta a seleção \n",
    "B = df.shape[0]\n",
    "A - B"
   ]
  },
  {
   "cell_type": "code",
   "execution_count": 16,
   "id": "073e469a-60f1-4796-b53c-7d47f90c2d63",
   "metadata": {},
   "outputs": [
    {
     "data": {
      "text/plain": [
       "3344"
      ]
     },
     "execution_count": 16,
     "metadata": {},
     "output_type": "execute_result"
    }
   ],
   "source": [
    "# Verificando quantos registros nulos ficarão após a remoção\n",
    "df[df['Condominio'].isnull()].shape[0]"
   ]
  },
  {
   "cell_type": "markdown",
   "id": "64a6d8f9-f85b-4489-98bd-b30fa1ae7d5a",
   "metadata": {},
   "source": [
    "### Tratando as variáveis CONDOMÍNIO e IPTU"
   ]
  },
  {
   "cell_type": "code",
   "execution_count": 17,
   "id": "72b80137-1064-4096-a1b1-de558d6d68e2",
   "metadata": {},
   "outputs": [
    {
     "data": {
      "text/html": [
       "<div>\n",
       "<style scoped>\n",
       "    .dataframe tbody tr th:only-of-type {\n",
       "        vertical-align: middle;\n",
       "    }\n",
       "\n",
       "    .dataframe tbody tr th {\n",
       "        vertical-align: top;\n",
       "    }\n",
       "\n",
       "    .dataframe thead th {\n",
       "        text-align: right;\n",
       "    }\n",
       "</style>\n",
       "<table border=\"1\" class=\"dataframe\">\n",
       "  <thead>\n",
       "    <tr style=\"text-align: right;\">\n",
       "      <th>ID</th>\n",
       "      <th>Tipo</th>\n",
       "      <th>Bairro</th>\n",
       "      <th>Quartos</th>\n",
       "      <th>Vagas</th>\n",
       "      <th>Suites</th>\n",
       "      <th>Area</th>\n",
       "      <th>Valor</th>\n",
       "      <th>Condominio</th>\n",
       "      <th>IPTU</th>\n",
       "    </tr>\n",
       "  </thead>\n",
       "  <tbody>\n",
       "    <tr>\n",
       "      <th>0</th>\n",
       "      <td>Quitinete</td>\n",
       "      <td>Copacabana</td>\n",
       "      <td>1</td>\n",
       "      <td>0</td>\n",
       "      <td>0</td>\n",
       "      <td>40</td>\n",
       "      <td>1700.0</td>\n",
       "      <td>500.0</td>\n",
       "      <td>60.0</td>\n",
       "    </tr>\n",
       "    <tr>\n",
       "      <th>1</th>\n",
       "      <td>Casa</td>\n",
       "      <td>Jardim Botânico</td>\n",
       "      <td>2</td>\n",
       "      <td>0</td>\n",
       "      <td>1</td>\n",
       "      <td>100</td>\n",
       "      <td>7000.0</td>\n",
       "      <td>0.0</td>\n",
       "      <td>0.0</td>\n",
       "    </tr>\n",
       "    <tr>\n",
       "      <th>2</th>\n",
       "      <td>Conjunto Comercial/Sala</td>\n",
       "      <td>Barra da Tijuca</td>\n",
       "      <td>0</td>\n",
       "      <td>4</td>\n",
       "      <td>0</td>\n",
       "      <td>150</td>\n",
       "      <td>5200.0</td>\n",
       "      <td>4020.0</td>\n",
       "      <td>1111.0</td>\n",
       "    </tr>\n",
       "    <tr>\n",
       "      <th>3</th>\n",
       "      <td>Apartamento</td>\n",
       "      <td>Centro</td>\n",
       "      <td>1</td>\n",
       "      <td>0</td>\n",
       "      <td>0</td>\n",
       "      <td>15</td>\n",
       "      <td>800.0</td>\n",
       "      <td>390.0</td>\n",
       "      <td>20.0</td>\n",
       "    </tr>\n",
       "    <tr>\n",
       "      <th>4</th>\n",
       "      <td>Apartamento</td>\n",
       "      <td>Higienópolis</td>\n",
       "      <td>1</td>\n",
       "      <td>0</td>\n",
       "      <td>0</td>\n",
       "      <td>48</td>\n",
       "      <td>800.0</td>\n",
       "      <td>230.0</td>\n",
       "      <td>0.0</td>\n",
       "    </tr>\n",
       "    <tr>\n",
       "      <th>...</th>\n",
       "      <td>...</td>\n",
       "      <td>...</td>\n",
       "      <td>...</td>\n",
       "      <td>...</td>\n",
       "      <td>...</td>\n",
       "      <td>...</td>\n",
       "      <td>...</td>\n",
       "      <td>...</td>\n",
       "      <td>...</td>\n",
       "    </tr>\n",
       "    <tr>\n",
       "      <th>32955</th>\n",
       "      <td>Quitinete</td>\n",
       "      <td>Centro</td>\n",
       "      <td>0</td>\n",
       "      <td>0</td>\n",
       "      <td>0</td>\n",
       "      <td>27</td>\n",
       "      <td>800.0</td>\n",
       "      <td>350.0</td>\n",
       "      <td>25.0</td>\n",
       "    </tr>\n",
       "    <tr>\n",
       "      <th>32956</th>\n",
       "      <td>Apartamento</td>\n",
       "      <td>Jacarepaguá</td>\n",
       "      <td>3</td>\n",
       "      <td>1</td>\n",
       "      <td>2</td>\n",
       "      <td>78</td>\n",
       "      <td>1800.0</td>\n",
       "      <td>800.0</td>\n",
       "      <td>40.0</td>\n",
       "    </tr>\n",
       "    <tr>\n",
       "      <th>32957</th>\n",
       "      <td>Apartamento</td>\n",
       "      <td>São Francisco Xavier</td>\n",
       "      <td>2</td>\n",
       "      <td>1</td>\n",
       "      <td>0</td>\n",
       "      <td>48</td>\n",
       "      <td>1400.0</td>\n",
       "      <td>509.0</td>\n",
       "      <td>37.0</td>\n",
       "    </tr>\n",
       "    <tr>\n",
       "      <th>32958</th>\n",
       "      <td>Apartamento</td>\n",
       "      <td>Leblon</td>\n",
       "      <td>2</td>\n",
       "      <td>0</td>\n",
       "      <td>0</td>\n",
       "      <td>70</td>\n",
       "      <td>3000.0</td>\n",
       "      <td>760.0</td>\n",
       "      <td>0.0</td>\n",
       "    </tr>\n",
       "    <tr>\n",
       "      <th>32959</th>\n",
       "      <td>Conjunto Comercial/Sala</td>\n",
       "      <td>Centro</td>\n",
       "      <td>0</td>\n",
       "      <td>0</td>\n",
       "      <td>0</td>\n",
       "      <td>250</td>\n",
       "      <td>6500.0</td>\n",
       "      <td>4206.0</td>\n",
       "      <td>1109.0</td>\n",
       "    </tr>\n",
       "  </tbody>\n",
       "</table>\n",
       "<p>32198 rows × 9 columns</p>\n",
       "</div>"
      ],
      "text/plain": [
       "ID                        Tipo                Bairro  Quartos  Vagas  Suites  \\\n",
       "0                    Quitinete            Copacabana        1      0       0   \n",
       "1                         Casa       Jardim Botânico        2      0       1   \n",
       "2      Conjunto Comercial/Sala       Barra da Tijuca        0      4       0   \n",
       "3                  Apartamento                Centro        1      0       0   \n",
       "4                  Apartamento          Higienópolis        1      0       0   \n",
       "...                        ...                   ...      ...    ...     ...   \n",
       "32955                Quitinete                Centro        0      0       0   \n",
       "32956              Apartamento           Jacarepaguá        3      1       2   \n",
       "32957              Apartamento  São Francisco Xavier        2      1       0   \n",
       "32958              Apartamento                Leblon        2      0       0   \n",
       "32959  Conjunto Comercial/Sala                Centro        0      0       0   \n",
       "\n",
       "ID     Area   Valor  Condominio    IPTU  \n",
       "0        40  1700.0       500.0    60.0  \n",
       "1       100  7000.0         0.0     0.0  \n",
       "2       150  5200.0      4020.0  1111.0  \n",
       "3        15   800.0       390.0    20.0  \n",
       "4        48   800.0       230.0     0.0  \n",
       "...     ...     ...         ...     ...  \n",
       "32955    27   800.0       350.0    25.0  \n",
       "32956    78  1800.0       800.0    40.0  \n",
       "32957    48  1400.0       509.0    37.0  \n",
       "32958    70  3000.0       760.0     0.0  \n",
       "32959   250  6500.0      4206.0  1109.0  \n",
       "\n",
       "[32198 rows x 9 columns]"
      ]
     },
     "execution_count": 17,
     "metadata": {},
     "output_type": "execute_result"
    }
   ],
   "source": [
    "# Para os registros que permanecerem com valor nulo, vamos atribuir o valor 0\n",
    "df = df.fillna({'Condominio': 0, 'IPTU': 0})\n",
    "df"
   ]
  },
  {
   "cell_type": "code",
   "execution_count": 18,
   "id": "def7f3f9-9bd4-4685-9ea5-522905a462aa",
   "metadata": {},
   "outputs": [
    {
     "data": {
      "text/html": [
       "<div>\n",
       "<style scoped>\n",
       "    .dataframe tbody tr th:only-of-type {\n",
       "        vertical-align: middle;\n",
       "    }\n",
       "\n",
       "    .dataframe tbody tr th {\n",
       "        vertical-align: top;\n",
       "    }\n",
       "\n",
       "    .dataframe thead th {\n",
       "        text-align: right;\n",
       "    }\n",
       "</style>\n",
       "<table border=\"1\" class=\"dataframe\">\n",
       "  <thead>\n",
       "    <tr style=\"text-align: right;\">\n",
       "      <th></th>\n",
       "      <th>total</th>\n",
       "      <th>percent</th>\n",
       "    </tr>\n",
       "    <tr>\n",
       "      <th>ID</th>\n",
       "      <th></th>\n",
       "      <th></th>\n",
       "    </tr>\n",
       "  </thead>\n",
       "  <tbody>\n",
       "    <tr>\n",
       "      <th>Tipo</th>\n",
       "      <td>0</td>\n",
       "      <td>0.0</td>\n",
       "    </tr>\n",
       "    <tr>\n",
       "      <th>Bairro</th>\n",
       "      <td>0</td>\n",
       "      <td>0.0</td>\n",
       "    </tr>\n",
       "    <tr>\n",
       "      <th>Quartos</th>\n",
       "      <td>0</td>\n",
       "      <td>0.0</td>\n",
       "    </tr>\n",
       "    <tr>\n",
       "      <th>Vagas</th>\n",
       "      <td>0</td>\n",
       "      <td>0.0</td>\n",
       "    </tr>\n",
       "    <tr>\n",
       "      <th>Suites</th>\n",
       "      <td>0</td>\n",
       "      <td>0.0</td>\n",
       "    </tr>\n",
       "    <tr>\n",
       "      <th>Area</th>\n",
       "      <td>0</td>\n",
       "      <td>0.0</td>\n",
       "    </tr>\n",
       "    <tr>\n",
       "      <th>Valor</th>\n",
       "      <td>0</td>\n",
       "      <td>0.0</td>\n",
       "    </tr>\n",
       "    <tr>\n",
       "      <th>Condominio</th>\n",
       "      <td>0</td>\n",
       "      <td>0.0</td>\n",
       "    </tr>\n",
       "    <tr>\n",
       "      <th>IPTU</th>\n",
       "      <td>0</td>\n",
       "      <td>0.0</td>\n",
       "    </tr>\n",
       "  </tbody>\n",
       "</table>\n",
       "</div>"
      ],
      "text/plain": [
       "            total  percent\n",
       "ID                        \n",
       "Tipo            0      0.0\n",
       "Bairro          0      0.0\n",
       "Quartos         0      0.0\n",
       "Vagas           0      0.0\n",
       "Suites          0      0.0\n",
       "Area            0      0.0\n",
       "Valor           0      0.0\n",
       "Condominio      0      0.0\n",
       "IPTU            0      0.0"
      ]
     },
     "execution_count": 18,
     "metadata": {},
     "output_type": "execute_result"
    }
   ],
   "source": [
    "# Chamando a função de nulo para verificar se ainda há algum valor nulo no dataframe\n",
    "nulos(df)"
   ]
  },
  {
   "cell_type": "markdown",
   "id": "7fc6f1d5-aec7-42b7-95df-c8651f7008d2",
   "metadata": {},
   "source": [
    "### Salvando uma nova versão do dataset com as devidas correções"
   ]
  },
  {
   "cell_type": "code",
   "execution_count": 19,
   "id": "718aa8d2-757d-4c8b-98f2-1b8f86dae529",
   "metadata": {},
   "outputs": [],
   "source": [
    "# Exportando como arquivo CSV\n",
    "df.to_csv('dataset\\df_limpo_v1.csv', sep=';', index = False)"
   ]
  },
  {
   "cell_type": "code",
   "execution_count": 20,
   "id": "5a2bc87a-7e2f-46bd-a8cf-2f61dd6a27c3",
   "metadata": {},
   "outputs": [
    {
     "data": {
      "text/html": [
       "<div>\n",
       "<style scoped>\n",
       "    .dataframe tbody tr th:only-of-type {\n",
       "        vertical-align: middle;\n",
       "    }\n",
       "\n",
       "    .dataframe tbody tr th {\n",
       "        vertical-align: top;\n",
       "    }\n",
       "\n",
       "    .dataframe thead th {\n",
       "        text-align: right;\n",
       "    }\n",
       "</style>\n",
       "<table border=\"1\" class=\"dataframe\">\n",
       "  <thead>\n",
       "    <tr style=\"text-align: right;\">\n",
       "      <th></th>\n",
       "      <th>Tipo</th>\n",
       "      <th>Bairro</th>\n",
       "      <th>Quartos</th>\n",
       "      <th>Vagas</th>\n",
       "      <th>Suites</th>\n",
       "      <th>Area</th>\n",
       "      <th>Valor</th>\n",
       "      <th>Condominio</th>\n",
       "      <th>IPTU</th>\n",
       "    </tr>\n",
       "  </thead>\n",
       "  <tbody>\n",
       "    <tr>\n",
       "      <th>0</th>\n",
       "      <td>Quitinete</td>\n",
       "      <td>Copacabana</td>\n",
       "      <td>1</td>\n",
       "      <td>0</td>\n",
       "      <td>0</td>\n",
       "      <td>40</td>\n",
       "      <td>1700.0</td>\n",
       "      <td>500.0</td>\n",
       "      <td>60.0</td>\n",
       "    </tr>\n",
       "    <tr>\n",
       "      <th>1</th>\n",
       "      <td>Casa</td>\n",
       "      <td>Jardim Botânico</td>\n",
       "      <td>2</td>\n",
       "      <td>0</td>\n",
       "      <td>1</td>\n",
       "      <td>100</td>\n",
       "      <td>7000.0</td>\n",
       "      <td>0.0</td>\n",
       "      <td>0.0</td>\n",
       "    </tr>\n",
       "    <tr>\n",
       "      <th>2</th>\n",
       "      <td>Conjunto Comercial/Sala</td>\n",
       "      <td>Barra da Tijuca</td>\n",
       "      <td>0</td>\n",
       "      <td>4</td>\n",
       "      <td>0</td>\n",
       "      <td>150</td>\n",
       "      <td>5200.0</td>\n",
       "      <td>4020.0</td>\n",
       "      <td>1111.0</td>\n",
       "    </tr>\n",
       "    <tr>\n",
       "      <th>3</th>\n",
       "      <td>Apartamento</td>\n",
       "      <td>Centro</td>\n",
       "      <td>1</td>\n",
       "      <td>0</td>\n",
       "      <td>0</td>\n",
       "      <td>15</td>\n",
       "      <td>800.0</td>\n",
       "      <td>390.0</td>\n",
       "      <td>20.0</td>\n",
       "    </tr>\n",
       "    <tr>\n",
       "      <th>4</th>\n",
       "      <td>Apartamento</td>\n",
       "      <td>Higienópolis</td>\n",
       "      <td>1</td>\n",
       "      <td>0</td>\n",
       "      <td>0</td>\n",
       "      <td>48</td>\n",
       "      <td>800.0</td>\n",
       "      <td>230.0</td>\n",
       "      <td>0.0</td>\n",
       "    </tr>\n",
       "  </tbody>\n",
       "</table>\n",
       "</div>"
      ],
      "text/plain": [
       "                      Tipo           Bairro  Quartos  Vagas  Suites  Area  \\\n",
       "0                Quitinete       Copacabana        1      0       0    40   \n",
       "1                     Casa  Jardim Botânico        2      0       1   100   \n",
       "2  Conjunto Comercial/Sala  Barra da Tijuca        0      4       0   150   \n",
       "3              Apartamento           Centro        1      0       0    15   \n",
       "4              Apartamento     Higienópolis        1      0       0    48   \n",
       "\n",
       "    Valor  Condominio    IPTU  \n",
       "0  1700.0       500.0    60.0  \n",
       "1  7000.0         0.0     0.0  \n",
       "2  5200.0      4020.0  1111.0  \n",
       "3   800.0       390.0    20.0  \n",
       "4   800.0       230.0     0.0  "
      ]
     },
     "execution_count": 20,
     "metadata": {},
     "output_type": "execute_result"
    }
   ],
   "source": [
    "# Lendo novo df\n",
    "df = pd.read_csv('dataset\\df_limpo_v1.csv', sep=';')\n",
    "df.head(5)"
   ]
  },
  {
   "cell_type": "code",
   "execution_count": 21,
   "id": "048ee675-c16b-4529-a97e-459db4da0286",
   "metadata": {},
   "outputs": [
    {
     "data": {
      "text/plain": [
       "['Quitinete',\n",
       " 'Casa',\n",
       " 'Conjunto Comercial/Sala',\n",
       " 'Apartamento',\n",
       " 'Casa de Condomínio',\n",
       " 'Prédio Inteiro',\n",
       " 'Flat',\n",
       " 'Loja/Salão',\n",
       " 'Galpão/Depósito/Armazém',\n",
       " 'Casa Comercial',\n",
       " 'Casa de Vila',\n",
       " 'Terreno Padrão',\n",
       " 'Box/Garagem',\n",
       " 'Loft',\n",
       " 'Loja Shopping/ Ct Comercial',\n",
       " 'Chácara',\n",
       " 'Loteamento/Condomínio',\n",
       " 'Sítio',\n",
       " 'Pousada/Chalé',\n",
       " 'Studio',\n",
       " 'Hotel',\n",
       " 'Indústria']"
      ]
     },
     "execution_count": 21,
     "metadata": {},
     "output_type": "execute_result"
    }
   ],
   "source": [
    "tipos_imoveis = df.Tipo.drop_duplicates().to_list()\n",
    "tipos_imoveis"
   ]
  },
  {
   "cell_type": "code",
   "execution_count": 22,
   "id": "bae5913a-b2b8-417a-9941-b82ebd86ea39",
   "metadata": {},
   "outputs": [
    {
     "data": {
      "text/plain": [
       "22"
      ]
     },
     "execution_count": 22,
     "metadata": {},
     "output_type": "execute_result"
    }
   ],
   "source": [
    "len(tipos_imoveis)"
   ]
  },
  {
   "cell_type": "markdown",
   "id": "08456e1e-283f-4f02-a985-7705876694f9",
   "metadata": {},
   "source": [
    "Nota-se que há que há 22 tipos de imóveis entre residenciais e comerciais. A análise a ser realizada são somente dos imóveis residenciais, portanto, os comerciais podem ser descartados."
   ]
  },
  {
   "cell_type": "markdown",
   "id": "bf27b84b-a5fd-4546-8915-853493f972fa",
   "metadata": {},
   "source": [
    "#### Selecionando imóveis residenciais"
   ]
  },
  {
   "cell_type": "code",
   "execution_count": 23,
   "id": "9dde8660-bdf8-4445-bc67-c8a380ab4f06",
   "metadata": {},
   "outputs": [],
   "source": [
    "# Criando uma variável com uma lista somente de imóveis residenciais\n",
    "residencial = ['Quitinete',\n",
    " 'Casa',\n",
    " 'Apartamento',\n",
    " 'Casa de Condomínio',\n",
    " 'Casa de Vila']"
   ]
  },
  {
   "cell_type": "code",
   "execution_count": 24,
   "id": "254c6179-6ae7-493f-b29e-986e76729cfb",
   "metadata": {},
   "outputs": [],
   "source": [
    "# O método isin vai procurar no dataframe os valores contidos em residencial e se achar ficam como verdadeiro, senão como falso\n",
    "selecao = df['Tipo'].isin(residencial)"
   ]
  },
  {
   "cell_type": "code",
   "execution_count": 25,
   "id": "d8758cb9-983c-4281-b145-49fd945a9d46",
   "metadata": {},
   "outputs": [
    {
     "data": {
      "text/html": [
       "<div>\n",
       "<style scoped>\n",
       "    .dataframe tbody tr th:only-of-type {\n",
       "        vertical-align: middle;\n",
       "    }\n",
       "\n",
       "    .dataframe tbody tr th {\n",
       "        vertical-align: top;\n",
       "    }\n",
       "\n",
       "    .dataframe thead th {\n",
       "        text-align: right;\n",
       "    }\n",
       "</style>\n",
       "<table border=\"1\" class=\"dataframe\">\n",
       "  <thead>\n",
       "    <tr style=\"text-align: right;\">\n",
       "      <th></th>\n",
       "      <th>Tipo</th>\n",
       "      <th>Bairro</th>\n",
       "      <th>Quartos</th>\n",
       "      <th>Vagas</th>\n",
       "      <th>Suites</th>\n",
       "      <th>Area</th>\n",
       "      <th>Valor</th>\n",
       "      <th>Condominio</th>\n",
       "      <th>IPTU</th>\n",
       "    </tr>\n",
       "  </thead>\n",
       "  <tbody>\n",
       "    <tr>\n",
       "      <th>0</th>\n",
       "      <td>Quitinete</td>\n",
       "      <td>Copacabana</td>\n",
       "      <td>1</td>\n",
       "      <td>0</td>\n",
       "      <td>0</td>\n",
       "      <td>40</td>\n",
       "      <td>1700.0</td>\n",
       "      <td>500.0</td>\n",
       "      <td>60.0</td>\n",
       "    </tr>\n",
       "    <tr>\n",
       "      <th>1</th>\n",
       "      <td>Casa</td>\n",
       "      <td>Jardim Botânico</td>\n",
       "      <td>2</td>\n",
       "      <td>0</td>\n",
       "      <td>1</td>\n",
       "      <td>100</td>\n",
       "      <td>7000.0</td>\n",
       "      <td>0.0</td>\n",
       "      <td>0.0</td>\n",
       "    </tr>\n",
       "    <tr>\n",
       "      <th>3</th>\n",
       "      <td>Apartamento</td>\n",
       "      <td>Centro</td>\n",
       "      <td>1</td>\n",
       "      <td>0</td>\n",
       "      <td>0</td>\n",
       "      <td>15</td>\n",
       "      <td>800.0</td>\n",
       "      <td>390.0</td>\n",
       "      <td>20.0</td>\n",
       "    </tr>\n",
       "    <tr>\n",
       "      <th>4</th>\n",
       "      <td>Apartamento</td>\n",
       "      <td>Higienópolis</td>\n",
       "      <td>1</td>\n",
       "      <td>0</td>\n",
       "      <td>0</td>\n",
       "      <td>48</td>\n",
       "      <td>800.0</td>\n",
       "      <td>230.0</td>\n",
       "      <td>0.0</td>\n",
       "    </tr>\n",
       "    <tr>\n",
       "      <th>5</th>\n",
       "      <td>Apartamento</td>\n",
       "      <td>Cachambi</td>\n",
       "      <td>2</td>\n",
       "      <td>0</td>\n",
       "      <td>0</td>\n",
       "      <td>50</td>\n",
       "      <td>1300.0</td>\n",
       "      <td>301.0</td>\n",
       "      <td>17.0</td>\n",
       "    </tr>\n",
       "  </tbody>\n",
       "</table>\n",
       "</div>"
      ],
      "text/plain": [
       "          Tipo           Bairro  Quartos  Vagas  Suites  Area   Valor  \\\n",
       "0    Quitinete       Copacabana        1      0       0    40  1700.0   \n",
       "1         Casa  Jardim Botânico        2      0       1   100  7000.0   \n",
       "3  Apartamento           Centro        1      0       0    15   800.0   \n",
       "4  Apartamento     Higienópolis        1      0       0    48   800.0   \n",
       "5  Apartamento         Cachambi        2      0       0    50  1300.0   \n",
       "\n",
       "   Condominio  IPTU  \n",
       "0       500.0  60.0  \n",
       "1         0.0   0.0  \n",
       "3       390.0  20.0  \n",
       "4       230.0   0.0  \n",
       "5       301.0  17.0  "
      ]
     },
     "execution_count": 25,
     "metadata": {},
     "output_type": "execute_result"
    }
   ],
   "source": [
    "# Será passada a seleção dos imóveis para o dataframe\n",
    "df_residencial = df[selecao]\n",
    "df_residencial.head(5)"
   ]
  },
  {
   "cell_type": "code",
   "execution_count": 26,
   "id": "66c1ea88-51ca-4c0c-97c0-bf1fe307876a",
   "metadata": {},
   "outputs": [
    {
     "data": {
      "text/html": [
       "<div>\n",
       "<style scoped>\n",
       "    .dataframe tbody tr th:only-of-type {\n",
       "        vertical-align: middle;\n",
       "    }\n",
       "\n",
       "    .dataframe tbody tr th {\n",
       "        vertical-align: top;\n",
       "    }\n",
       "\n",
       "    .dataframe thead th {\n",
       "        text-align: right;\n",
       "    }\n",
       "</style>\n",
       "<table border=\"1\" class=\"dataframe\">\n",
       "  <thead>\n",
       "    <tr style=\"text-align: right;\">\n",
       "      <th></th>\n",
       "      <th>Tipo</th>\n",
       "      <th>Bairro</th>\n",
       "      <th>Quartos</th>\n",
       "      <th>Vagas</th>\n",
       "      <th>Suites</th>\n",
       "      <th>Area</th>\n",
       "      <th>Valor</th>\n",
       "      <th>Condominio</th>\n",
       "      <th>IPTU</th>\n",
       "    </tr>\n",
       "  </thead>\n",
       "  <tbody>\n",
       "    <tr>\n",
       "      <th>0</th>\n",
       "      <td>Quitinete</td>\n",
       "      <td>Copacabana</td>\n",
       "      <td>1</td>\n",
       "      <td>0</td>\n",
       "      <td>0</td>\n",
       "      <td>40</td>\n",
       "      <td>1700.0</td>\n",
       "      <td>500.0</td>\n",
       "      <td>60.0</td>\n",
       "    </tr>\n",
       "    <tr>\n",
       "      <th>1</th>\n",
       "      <td>Casa</td>\n",
       "      <td>Jardim Botânico</td>\n",
       "      <td>2</td>\n",
       "      <td>0</td>\n",
       "      <td>1</td>\n",
       "      <td>100</td>\n",
       "      <td>7000.0</td>\n",
       "      <td>0.0</td>\n",
       "      <td>0.0</td>\n",
       "    </tr>\n",
       "    <tr>\n",
       "      <th>2</th>\n",
       "      <td>Apartamento</td>\n",
       "      <td>Centro</td>\n",
       "      <td>1</td>\n",
       "      <td>0</td>\n",
       "      <td>0</td>\n",
       "      <td>15</td>\n",
       "      <td>800.0</td>\n",
       "      <td>390.0</td>\n",
       "      <td>20.0</td>\n",
       "    </tr>\n",
       "    <tr>\n",
       "      <th>3</th>\n",
       "      <td>Apartamento</td>\n",
       "      <td>Higienópolis</td>\n",
       "      <td>1</td>\n",
       "      <td>0</td>\n",
       "      <td>0</td>\n",
       "      <td>48</td>\n",
       "      <td>800.0</td>\n",
       "      <td>230.0</td>\n",
       "      <td>0.0</td>\n",
       "    </tr>\n",
       "    <tr>\n",
       "      <th>4</th>\n",
       "      <td>Apartamento</td>\n",
       "      <td>Cachambi</td>\n",
       "      <td>2</td>\n",
       "      <td>0</td>\n",
       "      <td>0</td>\n",
       "      <td>50</td>\n",
       "      <td>1300.0</td>\n",
       "      <td>301.0</td>\n",
       "      <td>17.0</td>\n",
       "    </tr>\n",
       "    <tr>\n",
       "      <th>...</th>\n",
       "      <td>...</td>\n",
       "      <td>...</td>\n",
       "      <td>...</td>\n",
       "      <td>...</td>\n",
       "      <td>...</td>\n",
       "      <td>...</td>\n",
       "      <td>...</td>\n",
       "      <td>...</td>\n",
       "      <td>...</td>\n",
       "    </tr>\n",
       "    <tr>\n",
       "      <th>21821</th>\n",
       "      <td>Apartamento</td>\n",
       "      <td>Méier</td>\n",
       "      <td>2</td>\n",
       "      <td>0</td>\n",
       "      <td>0</td>\n",
       "      <td>70</td>\n",
       "      <td>900.0</td>\n",
       "      <td>490.0</td>\n",
       "      <td>48.0</td>\n",
       "    </tr>\n",
       "    <tr>\n",
       "      <th>21822</th>\n",
       "      <td>Quitinete</td>\n",
       "      <td>Centro</td>\n",
       "      <td>0</td>\n",
       "      <td>0</td>\n",
       "      <td>0</td>\n",
       "      <td>27</td>\n",
       "      <td>800.0</td>\n",
       "      <td>350.0</td>\n",
       "      <td>25.0</td>\n",
       "    </tr>\n",
       "    <tr>\n",
       "      <th>21823</th>\n",
       "      <td>Apartamento</td>\n",
       "      <td>Jacarepaguá</td>\n",
       "      <td>3</td>\n",
       "      <td>1</td>\n",
       "      <td>2</td>\n",
       "      <td>78</td>\n",
       "      <td>1800.0</td>\n",
       "      <td>800.0</td>\n",
       "      <td>40.0</td>\n",
       "    </tr>\n",
       "    <tr>\n",
       "      <th>21824</th>\n",
       "      <td>Apartamento</td>\n",
       "      <td>São Francisco Xavier</td>\n",
       "      <td>2</td>\n",
       "      <td>1</td>\n",
       "      <td>0</td>\n",
       "      <td>48</td>\n",
       "      <td>1400.0</td>\n",
       "      <td>509.0</td>\n",
       "      <td>37.0</td>\n",
       "    </tr>\n",
       "    <tr>\n",
       "      <th>21825</th>\n",
       "      <td>Apartamento</td>\n",
       "      <td>Leblon</td>\n",
       "      <td>2</td>\n",
       "      <td>0</td>\n",
       "      <td>0</td>\n",
       "      <td>70</td>\n",
       "      <td>3000.0</td>\n",
       "      <td>760.0</td>\n",
       "      <td>0.0</td>\n",
       "    </tr>\n",
       "  </tbody>\n",
       "</table>\n",
       "<p>21826 rows × 9 columns</p>\n",
       "</div>"
      ],
      "text/plain": [
       "              Tipo                Bairro  Quartos  Vagas  Suites  Area  \\\n",
       "0        Quitinete            Copacabana        1      0       0    40   \n",
       "1             Casa       Jardim Botânico        2      0       1   100   \n",
       "2      Apartamento                Centro        1      0       0    15   \n",
       "3      Apartamento          Higienópolis        1      0       0    48   \n",
       "4      Apartamento              Cachambi        2      0       0    50   \n",
       "...            ...                   ...      ...    ...     ...   ...   \n",
       "21821  Apartamento                 Méier        2      0       0    70   \n",
       "21822    Quitinete                Centro        0      0       0    27   \n",
       "21823  Apartamento           Jacarepaguá        3      1       2    78   \n",
       "21824  Apartamento  São Francisco Xavier        2      1       0    48   \n",
       "21825  Apartamento                Leblon        2      0       0    70   \n",
       "\n",
       "        Valor  Condominio  IPTU  \n",
       "0      1700.0       500.0  60.0  \n",
       "1      7000.0         0.0   0.0  \n",
       "2       800.0       390.0  20.0  \n",
       "3       800.0       230.0   0.0  \n",
       "4      1300.0       301.0  17.0  \n",
       "...       ...         ...   ...  \n",
       "21821   900.0       490.0  48.0  \n",
       "21822   800.0       350.0  25.0  \n",
       "21823  1800.0       800.0  40.0  \n",
       "21824  1400.0       509.0  37.0  \n",
       "21825  3000.0       760.0   0.0  \n",
       "\n",
       "[21826 rows x 9 columns]"
      ]
     },
     "execution_count": 26,
     "metadata": {},
     "output_type": "execute_result"
    }
   ],
   "source": [
    "# Ajustando o index. Como pode ocorrer novamente, será definida uma função para ser utilizada novamente\n",
    "def ajuste_index(df):\n",
    "    df.index = range(df.shape[0])\n",
    "    return df_residencial\n",
    "\n",
    "ajuste_index(df_residencial)"
   ]
  },
  {
   "cell_type": "markdown",
   "id": "7e9d9e23-306f-40f1-af84-4efa1eb50ebc",
   "metadata": {},
   "source": [
    "Agora o dataframe está menor, mas contém apenas os dados que vamos analisar"
   ]
  },
  {
   "cell_type": "markdown",
   "id": "bcde9dd0-6a4d-4d53-a27e-697dc5cffb55",
   "metadata": {},
   "source": [
    "### Tratando Outliers"
   ]
  },
  {
   "cell_type": "code",
   "execution_count": 27,
   "id": "7e5389e3-6730-44cc-bc84-3e47dbf7d7c9",
   "metadata": {},
   "outputs": [],
   "source": [
    "# Criando variaveis do eixo\n",
    "eixos = pd.DataFrame(df_residencial[['Tipo','Valor']])                                                "
   ]
  },
  {
   "cell_type": "code",
   "execution_count": 28,
   "id": "62a39dab-14e1-4924-9c66-4a6dff551c1a",
   "metadata": {},
   "outputs": [
    {
     "data": {
      "text/plain": [
       "<AxesSubplot:xlabel='Tipo', ylabel='Valor'>"
      ]
     },
     "execution_count": 28,
     "metadata": {},
     "output_type": "execute_result"
    },
    {
     "data": {
      "image/png": "[encoded data removed]",
      "text/plain": [
       "<Figure size 720x576 with 1 Axes>"
      ]
     },
     "metadata": {},
     "output_type": "display_data"
    }
   ],
   "source": [
    "# Utilizando boxplot para visualizar os outliers\n",
    "sns.boxplot(x='Tipo',\n",
    "            y='Valor',\n",
    "            data=eixos)"
   ]
  },
  {
   "cell_type": "code",
   "execution_count": 29,
   "id": "7a250ee9-205f-4988-978a-87c75b04064a",
   "metadata": {},
   "outputs": [],
   "source": [
    "# Calculando quartis, intervalo interquartil e limites\n",
    "grupo = df_residencial.groupby('Tipo')['Valor']\n",
    "Q1 = grupo.quantile(0.25) \n",
    "Q3 = grupo.quantile(0.75)\n",
    "IIQ = Q3 - Q1\n",
    "LIMINF = Q1 - 1.5 * IIQ\n",
    "LIMSUP = Q3 + 1.5 * IIQ"
   ]
  },
  {
   "cell_type": "code",
   "execution_count": 30,
   "id": "d301aa5d-edb0-4664-a4f8-177c1f209f2d",
   "metadata": {},
   "outputs": [],
   "source": [
    "# Analise individualiza dos outliers por tipo\n",
    "df_residencial2 = pd.DataFrame()\n",
    "for tipo in grupo.groups.keys():\n",
    "    o_tipo = df_residencial['Tipo'] == tipo # primeira selecao ele vai iterar pelo tipo\n",
    "    dentro_lim = (df_residencial['Valor']>= LIMINF[tipo]) & (df_residencial['Valor']<= LIMSUP[tipo]) # segunda seleção vai iterar \n",
    "                                                                                                    #com valores dentro do limite\n",
    "    selecao = o_tipo & dentro_lim # variável seleção agrupara os dados das duas variaveis anteriores\n",
    "    dados_selecao = df_residencial[selecao]\n",
    "    df_residencial2 = pd.concat([df_residencial2, dados_selecao])    "
   ]
  },
  {
   "cell_type": "code",
   "execution_count": 31,
   "id": "6100c406-029a-4e39-9c35-8cda1d245515",
   "metadata": {},
   "outputs": [
    {
     "data": {
      "text/plain": [
       "<AxesSubplot:xlabel='Tipo', ylabel='Valor'>"
      ]
     },
     "execution_count": 31,
     "metadata": {},
     "output_type": "execute_result"
    },
    {
     "data": {
      "image/png": "[encoded data removed]",
      "text/plain": [
       "<Figure size 720x576 with 1 Axes>"
      ]
     },
     "metadata": {},
     "output_type": "display_data"
    }
   ],
   "source": [
    "# Plotando novo gráfico para visualizar alterações\n",
    "eixos = pd.DataFrame(df_residencial2[['Tipo','Valor']]) \n",
    "sns.boxplot(x='Tipo',\n",
    "            y='Valor',\n",
    "            data=eixos)"
   ]
  },
  {
   "cell_type": "markdown",
   "id": "0712a152-e93c-421b-a0ac-f09394693ad7",
   "metadata": {},
   "source": [
    "## Análise dos Dados de Imóveis Residenciais"
   ]
  },
  {
   "cell_type": "markdown",
   "id": "9e249588-f8b3-48ef-afa3-da2af4a0f379",
   "metadata": {},
   "source": [
    "### Estatística Descritiva"
   ]
  },
  {
   "cell_type": "code",
   "execution_count": 32,
   "id": "3ed3fb57-f224-45bc-b9e3-f18ae2abc2a7",
   "metadata": {},
   "outputs": [
    {
     "data": {
      "text/html": [
       "<div>\n",
       "<style scoped>\n",
       "    .dataframe tbody tr th:only-of-type {\n",
       "        vertical-align: middle;\n",
       "    }\n",
       "\n",
       "    .dataframe tbody tr th {\n",
       "        vertical-align: top;\n",
       "    }\n",
       "\n",
       "    .dataframe thead th {\n",
       "        text-align: right;\n",
       "    }\n",
       "</style>\n",
       "<table border=\"1\" class=\"dataframe\">\n",
       "  <thead>\n",
       "    <tr style=\"text-align: right;\">\n",
       "      <th></th>\n",
       "      <th>Quartos</th>\n",
       "      <th>Vagas</th>\n",
       "      <th>Suites</th>\n",
       "      <th>Area</th>\n",
       "      <th>Valor</th>\n",
       "      <th>Condominio</th>\n",
       "      <th>IPTU</th>\n",
       "    </tr>\n",
       "  </thead>\n",
       "  <tbody>\n",
       "    <tr>\n",
       "      <th>count</th>\n",
       "      <td>19831.00</td>\n",
       "      <td>19831.00</td>\n",
       "      <td>19831.00</td>\n",
       "      <td>19831.00</td>\n",
       "      <td>19831.00</td>\n",
       "      <td>19831.00</td>\n",
       "      <td>19831.00</td>\n",
       "    </tr>\n",
       "    <tr>\n",
       "      <th>mean</th>\n",
       "      <td>2.41</td>\n",
       "      <td>1.20</td>\n",
       "      <td>0.82</td>\n",
       "      <td>120.27</td>\n",
       "      <td>3465.40</td>\n",
       "      <td>1386.19</td>\n",
       "      <td>433.98</td>\n",
       "    </tr>\n",
       "    <tr>\n",
       "      <th>std</th>\n",
       "      <td>1.03</td>\n",
       "      <td>13.96</td>\n",
       "      <td>1.03</td>\n",
       "      <td>126.60</td>\n",
       "      <td>3291.36</td>\n",
       "      <td>46692.23</td>\n",
       "      <td>3698.12</td>\n",
       "    </tr>\n",
       "    <tr>\n",
       "      <th>min</th>\n",
       "      <td>0.00</td>\n",
       "      <td>0.00</td>\n",
       "      <td>0.00</td>\n",
       "      <td>10.00</td>\n",
       "      <td>100.00</td>\n",
       "      <td>0.00</td>\n",
       "      <td>0.00</td>\n",
       "    </tr>\n",
       "    <tr>\n",
       "      <th>25%</th>\n",
       "      <td>2.00</td>\n",
       "      <td>0.00</td>\n",
       "      <td>0.00</td>\n",
       "      <td>62.00</td>\n",
       "      <td>1500.00</td>\n",
       "      <td>500.00</td>\n",
       "      <td>0.00</td>\n",
       "    </tr>\n",
       "    <tr>\n",
       "      <th>50%</th>\n",
       "      <td>2.00</td>\n",
       "      <td>1.00</td>\n",
       "      <td>1.00</td>\n",
       "      <td>85.00</td>\n",
       "      <td>2500.00</td>\n",
       "      <td>800.00</td>\n",
       "      <td>100.00</td>\n",
       "    </tr>\n",
       "    <tr>\n",
       "      <th>75%</th>\n",
       "      <td>3.00</td>\n",
       "      <td>2.00</td>\n",
       "      <td>1.00</td>\n",
       "      <td>130.00</td>\n",
       "      <td>4300.00</td>\n",
       "      <td>1336.00</td>\n",
       "      <td>294.00</td>\n",
       "    </tr>\n",
       "    <tr>\n",
       "      <th>max</th>\n",
       "      <td>14.00</td>\n",
       "      <td>1960.00</td>\n",
       "      <td>14.00</td>\n",
       "      <td>3000.00</td>\n",
       "      <td>32000.00</td>\n",
       "      <td>6552570.00</td>\n",
       "      <td>450625.00</td>\n",
       "    </tr>\n",
       "  </tbody>\n",
       "</table>\n",
       "</div>"
      ],
      "text/plain": [
       "        Quartos     Vagas    Suites      Area     Valor  Condominio       IPTU\n",
       "count  19831.00  19831.00  19831.00  19831.00  19831.00    19831.00   19831.00\n",
       "mean       2.41      1.20      0.82    120.27   3465.40     1386.19     433.98\n",
       "std        1.03     13.96      1.03    126.60   3291.36    46692.23    3698.12\n",
       "min        0.00      0.00      0.00     10.00    100.00        0.00       0.00\n",
       "25%        2.00      0.00      0.00     62.00   1500.00      500.00       0.00\n",
       "50%        2.00      1.00      1.00     85.00   2500.00      800.00     100.00\n",
       "75%        3.00      2.00      1.00    130.00   4300.00     1336.00     294.00\n",
       "max       14.00   1960.00     14.00   3000.00  32000.00  6552570.00  450625.00"
      ]
     },
     "execution_count": 32,
     "metadata": {},
     "output_type": "execute_result"
    }
   ],
   "source": [
    "df_residencial2.describe().round(2)"
   ]
  },
  {
   "cell_type": "markdown",
   "id": "d0b58a96-93a6-4926-abd6-92e29c371113",
   "metadata": {},
   "source": [
    "O tratamento dos outliers será aplicadado para cada tipo de imóvel dentro da variável tipo, e não na variável completa.\n",
    "Essa escolha é devido a caracteristica que cada imóvel tem na variação dos seus valores."
   ]
  },
  {
   "cell_type": "markdown",
   "id": "aafb8d04-dc55-4561-8a5b-681854f1ec7b",
   "metadata": {},
   "source": [
    "### Qual a distribuição dos imóveis?"
   ]
  },
  {
   "cell_type": "code",
   "execution_count": 33,
   "id": "ce1a4bfb-6993-48d0-ad63-69204169b74a",
   "metadata": {},
   "outputs": [
    {
     "data": {
      "image/png": "[encoded data removed]",
      "text/plain": [
       "<Figure size 720x576 with 1 Axes>"
      ]
     },
     "metadata": {},
     "output_type": "display_data"
    }
   ],
   "source": [
    "#plotando gráfico\n",
    "fig = sns.countplot(x=df_residencial2.Tipo)\n",
    "plt.xlabel('Tipo')\n",
    "plt.ylabel('Quantidade')\n",
    "plt.title('Distribuição dos Imóveis', size=20)\n",
    "fig.set_xticklabels(fig.get_xticklabels(),rotation=0)\n",
    "plt.show(fig)"
   ]
  },
  {
   "cell_type": "markdown",
   "id": "b6c31c73-a90f-4716-a970-8cd2955d2c9d",
   "metadata": {},
   "source": [
    "## Ranking dos 10 Aluguéis mais caros do Rio de Janeiro (sem condomínio e iptu)"
   ]
  },
  {
   "cell_type": "code",
   "execution_count": 34,
   "id": "a5fa93ba-3a09-407c-bda8-20a66700c765",
   "metadata": {},
   "outputs": [
    {
     "data": {
      "text/html": [
       "<div>\n",
       "<style scoped>\n",
       "    .dataframe tbody tr th:only-of-type {\n",
       "        vertical-align: middle;\n",
       "    }\n",
       "\n",
       "    .dataframe tbody tr th {\n",
       "        vertical-align: top;\n",
       "    }\n",
       "\n",
       "    .dataframe thead th {\n",
       "        text-align: right;\n",
       "    }\n",
       "</style>\n",
       "<table border=\"1\" class=\"dataframe\">\n",
       "  <thead>\n",
       "    <tr style=\"text-align: right;\">\n",
       "      <th></th>\n",
       "      <th>Tipo</th>\n",
       "      <th>Bairro</th>\n",
       "      <th>Valor</th>\n",
       "    </tr>\n",
       "  </thead>\n",
       "  <tbody>\n",
       "    <tr>\n",
       "      <th>11828</th>\n",
       "      <td>Casa de Condomínio</td>\n",
       "      <td>Barra da Tijuca</td>\n",
       "      <td>32000.0</td>\n",
       "    </tr>\n",
       "    <tr>\n",
       "      <th>20212</th>\n",
       "      <td>Casa de Condomínio</td>\n",
       "      <td>Barra da Tijuca</td>\n",
       "      <td>32000.0</td>\n",
       "    </tr>\n",
       "    <tr>\n",
       "      <th>2371</th>\n",
       "      <td>Casa de Condomínio</td>\n",
       "      <td>Barra da Tijuca</td>\n",
       "      <td>32000.0</td>\n",
       "    </tr>\n",
       "    <tr>\n",
       "      <th>1860</th>\n",
       "      <td>Casa de Condomínio</td>\n",
       "      <td>Barra da Tijuca</td>\n",
       "      <td>30000.0</td>\n",
       "    </tr>\n",
       "    <tr>\n",
       "      <th>21456</th>\n",
       "      <td>Casa de Condomínio</td>\n",
       "      <td>Barra da Tijuca</td>\n",
       "      <td>30000.0</td>\n",
       "    </tr>\n",
       "    <tr>\n",
       "      <th>166</th>\n",
       "      <td>Casa de Condomínio</td>\n",
       "      <td>Barra da Tijuca</td>\n",
       "      <td>30000.0</td>\n",
       "    </tr>\n",
       "    <tr>\n",
       "      <th>21711</th>\n",
       "      <td>Casa de Condomínio</td>\n",
       "      <td>Barra da Tijuca</td>\n",
       "      <td>30000.0</td>\n",
       "    </tr>\n",
       "    <tr>\n",
       "      <th>2940</th>\n",
       "      <td>Casa de Condomínio</td>\n",
       "      <td>Barra da Tijuca</td>\n",
       "      <td>30000.0</td>\n",
       "    </tr>\n",
       "    <tr>\n",
       "      <th>20694</th>\n",
       "      <td>Casa de Condomínio</td>\n",
       "      <td>Barra da Tijuca</td>\n",
       "      <td>30000.0</td>\n",
       "    </tr>\n",
       "    <tr>\n",
       "      <th>17541</th>\n",
       "      <td>Casa de Condomínio</td>\n",
       "      <td>Barra da Tijuca</td>\n",
       "      <td>30000.0</td>\n",
       "    </tr>\n",
       "  </tbody>\n",
       "</table>\n",
       "</div>"
      ],
      "text/plain": [
       "                     Tipo           Bairro    Valor\n",
       "11828  Casa de Condomínio  Barra da Tijuca  32000.0\n",
       "20212  Casa de Condomínio  Barra da Tijuca  32000.0\n",
       "2371   Casa de Condomínio  Barra da Tijuca  32000.0\n",
       "1860   Casa de Condomínio  Barra da Tijuca  30000.0\n",
       "21456  Casa de Condomínio  Barra da Tijuca  30000.0\n",
       "166    Casa de Condomínio  Barra da Tijuca  30000.0\n",
       "21711  Casa de Condomínio  Barra da Tijuca  30000.0\n",
       "2940   Casa de Condomínio  Barra da Tijuca  30000.0\n",
       "20694  Casa de Condomínio  Barra da Tijuca  30000.0\n",
       "17541  Casa de Condomínio  Barra da Tijuca  30000.0"
      ]
     },
     "execution_count": 34,
     "metadata": {},
     "output_type": "execute_result"
    }
   ],
   "source": [
    "ranking = df_residencial2[['Tipo', 'Bairro', 'Valor']].sort_values('Valor', ascending=False)\n",
    "ranking.head(10)"
   ]
  }
 ],
 "metadata": {
  "kernelspec": {
   "display_name": "Python 3",
   "language": "python",
   "name": "python3"
  },
  "language_info": {
   "codemirror_mode": {
    "name": "ipython",
    "version": 3
   },
   "file_extension": ".py",
   "mimetype": "text/x-python",
   "name": "python",
   "nbconvert_exporter": "python",
   "pygments_lexer": "ipython3",
   "version": "3.8.8"
  }
 },
 "nbformat": 4,
 "nbformat_minor": 5
}
